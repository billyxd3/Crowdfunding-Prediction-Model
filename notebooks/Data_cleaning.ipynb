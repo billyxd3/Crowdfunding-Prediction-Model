{
 "cells": [
  {
   "cell_type": "markdown",
   "id": "7c48ae29",
   "metadata": {},
   "source": [
    "<h1 style=\"color: black; font-size: 24px;\">Data cleaning :)</h1>"
   ]
  },
  {
   "cell_type": "code",
   "execution_count": 27,
   "id": "c46768a2",
   "metadata": {
    "scrolled": true
   },
   "outputs": [],
   "source": [
    "import pandas as pd\n",
    "import numpy as np\n",
    "from sqlalchemy import create_engine\n",
    "from datetime import datetime, date\n",
    "from ast import literal_eval\n",
    "\n",
    "import warnings\n",
    "warnings.filterwarnings('ignore')\n",
    "\n",
    "engine = create_engine(\"sqlite:///Kickstarter.db\")\n"
   ]
  },
  {
   "cell_type": "code",
   "execution_count": 29,
   "id": "597e56c9",
   "metadata": {},
   "outputs": [
    {
     "name": "stdout",
     "output_type": "stream",
     "text": [
      "(591566, 39)\n"
     ]
    },
    {
     "data": {
      "text/html": [
       "<div>\n",
       "<style scoped>\n",
       "    .dataframe tbody tr th:only-of-type {\n",
       "        vertical-align: middle;\n",
       "    }\n",
       "\n",
       "    .dataframe tbody tr th {\n",
       "        vertical-align: top;\n",
       "    }\n",
       "\n",
       "    .dataframe thead th {\n",
       "        text-align: right;\n",
       "    }\n",
       "</style>\n",
       "<table border=\"1\" class=\"dataframe\">\n",
       "  <thead>\n",
       "    <tr style=\"text-align: right;\">\n",
       "      <th></th>\n",
       "      <th>backers_count</th>\n",
       "      <th>blurb</th>\n",
       "      <th>category</th>\n",
       "      <th>converted_pledged_amount</th>\n",
       "      <th>country</th>\n",
       "      <th>country_displayable_name</th>\n",
       "      <th>created_at</th>\n",
       "      <th>creator</th>\n",
       "      <th>currency</th>\n",
       "      <th>currency_symbol</th>\n",
       "      <th>...</th>\n",
       "      <th>state_changed_at</th>\n",
       "      <th>static_usd_rate</th>\n",
       "      <th>urls</th>\n",
       "      <th>usd_exchange_rate</th>\n",
       "      <th>usd_pledged</th>\n",
       "      <th>usd_type</th>\n",
       "      <th>friends</th>\n",
       "      <th>is_backing</th>\n",
       "      <th>is_starred</th>\n",
       "      <th>permissions</th>\n",
       "    </tr>\n",
       "  </thead>\n",
       "  <tbody>\n",
       "    <tr>\n",
       "      <th>0</th>\n",
       "      <td>8</td>\n",
       "      <td>A new, for-profit community theatre group base...</td>\n",
       "      <td>{\"id\":285,\"name\":\"Plays\",\"analytics_name\":\"Pla...</td>\n",
       "      <td>291.0</td>\n",
       "      <td>US</td>\n",
       "      <td>the United States</td>\n",
       "      <td>1541529891</td>\n",
       "      <td>{\"id\":219654596,\"name\":\"Nicole Stephens\",\"is_r...</td>\n",
       "      <td>USD</td>\n",
       "      <td>$</td>\n",
       "      <td>...</td>\n",
       "      <td>1545933644</td>\n",
       "      <td>1.00000</td>\n",
       "      <td>{\"web\":{\"project\":\"https://www.kickstarter.com...</td>\n",
       "      <td>1.000000</td>\n",
       "      <td>291.000000</td>\n",
       "      <td>international</td>\n",
       "      <td>None</td>\n",
       "      <td>None</td>\n",
       "      <td>None</td>\n",
       "      <td>None</td>\n",
       "    </tr>\n",
       "    <tr>\n",
       "      <th>1</th>\n",
       "      <td>1</td>\n",
       "      <td>A 25 minute play with 5 scenes, including an o...</td>\n",
       "      <td>{\"id\":285,\"name\":\"Plays\",\"analytics_name\":\"Pla...</td>\n",
       "      <td>1.0</td>\n",
       "      <td>US</td>\n",
       "      <td>the United States</td>\n",
       "      <td>1536253805</td>\n",
       "      <td>{\"id\":118562988,\"name\":\"John\",\"is_registered\":...</td>\n",
       "      <td>USD</td>\n",
       "      <td>$</td>\n",
       "      <td>...</td>\n",
       "      <td>1548445522</td>\n",
       "      <td>1.00000</td>\n",
       "      <td>{\"web\":{\"project\":\"https://www.kickstarter.com...</td>\n",
       "      <td>1.000000</td>\n",
       "      <td>1.000000</td>\n",
       "      <td>international</td>\n",
       "      <td>None</td>\n",
       "      <td>None</td>\n",
       "      <td>None</td>\n",
       "      <td>None</td>\n",
       "    </tr>\n",
       "    <tr>\n",
       "      <th>2</th>\n",
       "      <td>5</td>\n",
       "      <td>Help us recovering the Opera tradition in one ...</td>\n",
       "      <td>{\"id\":285,\"name\":\"Plays\",\"analytics_name\":\"Pla...</td>\n",
       "      <td>695.0</td>\n",
       "      <td>IT</td>\n",
       "      <td>Italy</td>\n",
       "      <td>1541602785</td>\n",
       "      <td>{\"id\":369054581,\"name\":\"Ass. Musicale Filarmon...</td>\n",
       "      <td>EUR</td>\n",
       "      <td>€</td>\n",
       "      <td>...</td>\n",
       "      <td>1544707632</td>\n",
       "      <td>1.13231</td>\n",
       "      <td>{\"web\":{\"project\":\"https://www.kickstarter.com...</td>\n",
       "      <td>1.136508</td>\n",
       "      <td>692.974014</td>\n",
       "      <td>international</td>\n",
       "      <td>None</td>\n",
       "      <td>None</td>\n",
       "      <td>None</td>\n",
       "      <td>None</td>\n",
       "    </tr>\n",
       "    <tr>\n",
       "      <th>3</th>\n",
       "      <td>6</td>\n",
       "      <td>Using the Power of Visual and Performing Arts ...</td>\n",
       "      <td>{\"id\":285,\"name\":\"Plays\",\"analytics_name\":\"Pla...</td>\n",
       "      <td>367.0</td>\n",
       "      <td>US</td>\n",
       "      <td>the United States</td>\n",
       "      <td>1540763981</td>\n",
       "      <td>{\"id\":288923957,\"name\":\"A. Pat Britten\",\"slug\"...</td>\n",
       "      <td>USD</td>\n",
       "      <td>$</td>\n",
       "      <td>...</td>\n",
       "      <td>1543626000</td>\n",
       "      <td>1.00000</td>\n",
       "      <td>{\"web\":{\"project\":\"https://www.kickstarter.com...</td>\n",
       "      <td>1.000000</td>\n",
       "      <td>367.000000</td>\n",
       "      <td>international</td>\n",
       "      <td>None</td>\n",
       "      <td>None</td>\n",
       "      <td>None</td>\n",
       "      <td>None</td>\n",
       "    </tr>\n",
       "    <tr>\n",
       "      <th>4</th>\n",
       "      <td>2</td>\n",
       "      <td>Ché Walker's AMERICAN CARNAGE, a staged readin...</td>\n",
       "      <td>{\"id\":285,\"name\":\"Plays\",\"analytics_name\":\"Pla...</td>\n",
       "      <td>2.0</td>\n",
       "      <td>US</td>\n",
       "      <td>the United States</td>\n",
       "      <td>1532828061</td>\n",
       "      <td>{\"id\":352858813,\"name\":\"Alex Guiney\",\"is_regis...</td>\n",
       "      <td>USD</td>\n",
       "      <td>$</td>\n",
       "      <td>...</td>\n",
       "      <td>1541652524</td>\n",
       "      <td>1.00000</td>\n",
       "      <td>{\"web\":{\"project\":\"https://www.kickstarter.com...</td>\n",
       "      <td>1.000000</td>\n",
       "      <td>2.200000</td>\n",
       "      <td>international</td>\n",
       "      <td>None</td>\n",
       "      <td>None</td>\n",
       "      <td>None</td>\n",
       "      <td>None</td>\n",
       "    </tr>\n",
       "  </tbody>\n",
       "</table>\n",
       "<p>5 rows × 39 columns</p>\n",
       "</div>"
      ],
      "text/plain": [
       "   backers_count                                              blurb  \\\n",
       "0              8  A new, for-profit community theatre group base...   \n",
       "1              1  A 25 minute play with 5 scenes, including an o...   \n",
       "2              5  Help us recovering the Opera tradition in one ...   \n",
       "3              6  Using the Power of Visual and Performing Arts ...   \n",
       "4              2  Ché Walker's AMERICAN CARNAGE, a staged readin...   \n",
       "\n",
       "                                            category  \\\n",
       "0  {\"id\":285,\"name\":\"Plays\",\"analytics_name\":\"Pla...   \n",
       "1  {\"id\":285,\"name\":\"Plays\",\"analytics_name\":\"Pla...   \n",
       "2  {\"id\":285,\"name\":\"Plays\",\"analytics_name\":\"Pla...   \n",
       "3  {\"id\":285,\"name\":\"Plays\",\"analytics_name\":\"Pla...   \n",
       "4  {\"id\":285,\"name\":\"Plays\",\"analytics_name\":\"Pla...   \n",
       "\n",
       "   converted_pledged_amount country country_displayable_name  created_at  \\\n",
       "0                     291.0      US        the United States  1541529891   \n",
       "1                       1.0      US        the United States  1536253805   \n",
       "2                     695.0      IT                    Italy  1541602785   \n",
       "3                     367.0      US        the United States  1540763981   \n",
       "4                       2.0      US        the United States  1532828061   \n",
       "\n",
       "                                             creator currency currency_symbol  \\\n",
       "0  {\"id\":219654596,\"name\":\"Nicole Stephens\",\"is_r...      USD               $   \n",
       "1  {\"id\":118562988,\"name\":\"John\",\"is_registered\":...      USD               $   \n",
       "2  {\"id\":369054581,\"name\":\"Ass. Musicale Filarmon...      EUR               €   \n",
       "3  {\"id\":288923957,\"name\":\"A. Pat Britten\",\"slug\"...      USD               $   \n",
       "4  {\"id\":352858813,\"name\":\"Alex Guiney\",\"is_regis...      USD               $   \n",
       "\n",
       "   ...  state_changed_at static_usd_rate  \\\n",
       "0  ...        1545933644         1.00000   \n",
       "1  ...        1548445522         1.00000   \n",
       "2  ...        1544707632         1.13231   \n",
       "3  ...        1543626000         1.00000   \n",
       "4  ...        1541652524         1.00000   \n",
       "\n",
       "                                                urls  usd_exchange_rate  \\\n",
       "0  {\"web\":{\"project\":\"https://www.kickstarter.com...           1.000000   \n",
       "1  {\"web\":{\"project\":\"https://www.kickstarter.com...           1.000000   \n",
       "2  {\"web\":{\"project\":\"https://www.kickstarter.com...           1.136508   \n",
       "3  {\"web\":{\"project\":\"https://www.kickstarter.com...           1.000000   \n",
       "4  {\"web\":{\"project\":\"https://www.kickstarter.com...           1.000000   \n",
       "\n",
       "   usd_pledged       usd_type  friends  is_backing  is_starred permissions  \n",
       "0   291.000000  international     None        None        None        None  \n",
       "1     1.000000  international     None        None        None        None  \n",
       "2   692.974014  international     None        None        None        None  \n",
       "3   367.000000  international     None        None        None        None  \n",
       "4     2.200000  international     None        None        None        None  \n",
       "\n",
       "[5 rows x 39 columns]"
      ]
     },
     "execution_count": 29,
     "metadata": {},
     "output_type": "execute_result"
    }
   ],
   "source": [
    "query = \"SELECT * FROM data\"\n",
    "df = pd.read_sql(query, engine)\n",
    "\n",
    "\n",
    "print(df.shape)\n",
    "df.head()"
   ]
  },
  {
   "cell_type": "markdown",
   "id": "b53f0c23",
   "metadata": {},
   "source": [
    "<h3 style=\"color: black; font-size: 24px;\">All columns</h1>"
   ]
  },
  {
   "cell_type": "code",
   "execution_count": 30,
   "id": "b3df55ed",
   "metadata": {},
   "outputs": [
    {
     "name": "stdout",
     "output_type": "stream",
     "text": [
      "['backers_count', 'blurb', 'category', 'converted_pledged_amount', 'country', 'country_displayable_name', 'created_at', 'creator', 'currency', 'currency_symbol', 'currency_trailing_code', 'current_currency', 'deadline', 'disable_communication', 'fx_rate', 'goal', 'id', 'is_starrable', 'launched_at', 'location', 'name', 'photo', 'pledged', 'profile', 'slug', 'source_url', 'spotlight', 'staff_pick', 'state', 'state_changed_at', 'static_usd_rate', 'urls', 'usd_exchange_rate', 'usd_pledged', 'usd_type', 'friends', 'is_backing', 'is_starred', 'permissions']\n"
     ]
    }
   ],
   "source": [
    "column_names = df.columns.tolist()\n",
    "print(column_names)"
   ]
  },
  {
   "cell_type": "code",
   "execution_count": 31,
   "id": "cc9b07f2",
   "metadata": {},
   "outputs": [
    {
     "data": {
      "text/plain": [
       "(591566, 39)"
      ]
     },
     "execution_count": 31,
     "metadata": {},
     "output_type": "execute_result"
    }
   ],
   "source": [
    "# get rid of the \"column-headers rows\"\n",
    "df = df[df.created_at != \"created_at\"]\n",
    "df.shape"
   ]
  },
  {
   "cell_type": "code",
   "execution_count": 34,
   "id": "d4d28118",
   "metadata": {},
   "outputs": [],
   "source": [
    "df = df.drop(columns=['creator', 'country_displayable_name', 'currency_symbol', 'currency_trailing_code', 'current_currency', \n",
    "                            'disable_communication','friends', 'is_backing', 'is_starrable', 'is_starred', \n",
    "                            'permissions', 'photo', 'profile', 'source_url', 'urls','usd_exchange_rate'])"
   ]
  },
  {
   "cell_type": "code",
   "execution_count": 35,
   "id": "cc20960b",
   "metadata": {},
   "outputs": [
    {
     "data": {
      "text/plain": [
       "(591566, 23)"
      ]
     },
     "execution_count": 35,
     "metadata": {},
     "output_type": "execute_result"
    }
   ],
   "source": [
    "df.shape"
   ]
  },
  {
   "cell_type": "code",
   "execution_count": 36,
   "id": "eedc79f7",
   "metadata": {},
   "outputs": [
    {
     "name": "stdout",
     "output_type": "stream",
     "text": [
      "<class 'pandas.core.frame.DataFrame'>\n",
      "Int64Index: 591566 entries, 0 to 591565\n",
      "Data columns (total 23 columns):\n",
      " #   Column                    Non-Null Count   Dtype  \n",
      "---  ------                    --------------   -----  \n",
      " 0   backers_count             591566 non-null  int64  \n",
      " 1   blurb                     591533 non-null  object \n",
      " 2   category                  591566 non-null  object \n",
      " 3   converted_pledged_amount  589944 non-null  float64\n",
      " 4   country                   591566 non-null  object \n",
      " 5   created_at                591566 non-null  int64  \n",
      " 6   currency                  591566 non-null  object \n",
      " 7   deadline                  591566 non-null  int64  \n",
      " 8   fx_rate                   591566 non-null  float64\n",
      " 9   goal                      591566 non-null  float64\n",
      " 10  id                        591566 non-null  int64  \n",
      " 11  launched_at               591566 non-null  int64  \n",
      " 12  location                  590880 non-null  object \n",
      " 13  name                      591566 non-null  object \n",
      " 14  pledged                   591566 non-null  float64\n",
      " 15  slug                      591566 non-null  object \n",
      " 16  spotlight                 591566 non-null  int64  \n",
      " 17  staff_pick                591566 non-null  int64  \n",
      " 18  state                     591566 non-null  object \n",
      " 19  state_changed_at          591566 non-null  int64  \n",
      " 20  static_usd_rate           591566 non-null  float64\n",
      " 21  usd_pledged               589944 non-null  float64\n",
      " 22  usd_type                  590858 non-null  object \n",
      "dtypes: float64(6), int64(8), object(9)\n",
      "memory usage: 108.3+ MB\n"
     ]
    }
   ],
   "source": [
    "df.info()"
   ]
  },
  {
   "cell_type": "code",
   "execution_count": 37,
   "id": "a5047f19",
   "metadata": {},
   "outputs": [
    {
     "data": {
      "text/plain": [
       "successful    364877\n",
       "failed        186770\n",
       "canceled       21998\n",
       "live           16298\n",
       "submitted       1437\n",
       "started          185\n",
       "suspended          1\n",
       "Name: state, dtype: int64"
      ]
     },
     "execution_count": 37,
     "metadata": {},
     "output_type": "execute_result"
    }
   ],
   "source": [
    "# first looking at the ratio of successful and failed here\n",
    "df.state.value_counts()"
   ]
  },
  {
   "cell_type": "code",
   "execution_count": 38,
   "id": "45fc5e65",
   "metadata": {},
   "outputs": [
    {
     "data": {
      "text/plain": [
       "(551647, 23)"
      ]
     },
     "execution_count": 38,
     "metadata": {},
     "output_type": "execute_result"
    }
   ],
   "source": [
    "df['state'] = df.state.astype(str)\n",
    "# Only interested in success/fail champaigns\n",
    "df = df[(df.state == \"successful\") | (df.state == \"failed\")]\n",
    "df.shape"
   ]
  },
  {
   "cell_type": "code",
   "execution_count": 39,
   "id": "b8004314",
   "metadata": {},
   "outputs": [],
   "source": [
    "# Converting datetime objects\n",
    "df['created_at'] = df['created_at'].astype(int)\n",
    "df['created_at'] = pd.to_datetime(df['created_at'],unit='s')\n",
    "\n",
    "df['deadline'] = df['deadline'].astype(int)\n",
    "df['deadline'] = pd.to_datetime(df['deadline'], unit='s')\n",
    "\n",
    "df['launched_at'] = df['launched_at'].astype(int)\n",
    "df['launched_at'] = pd.to_datetime(df['launched_at'],unit='s')\n",
    "\n",
    "df['state_changed_at'] = df['state_changed_at'].astype(int)\n",
    "df['state_changed_at'] = pd.to_datetime(df['state_changed_at'],unit='s')"
   ]
  },
  {
   "cell_type": "code",
   "execution_count": 40,
   "id": "3980155c",
   "metadata": {},
   "outputs": [],
   "source": [
    "# df['duration'] = df.deadline - df.launched_at"
   ]
  },
  {
   "cell_type": "code",
   "execution_count": 41,
   "id": "f7c9fcca",
   "metadata": {},
   "outputs": [
    {
     "data": {
      "text/plain": [
       "718643586     28\n",
       "1102542459    28\n",
       "2065704485    28\n",
       "1532933070    28\n",
       "1255612140    28\n",
       "              ..\n",
       "823354882      1\n",
       "1686016893     1\n",
       "66745596       1\n",
       "1781536709     1\n",
       "1360935499     1\n",
       "Name: id, Length: 197197, dtype: int64"
      ]
     },
     "execution_count": 41,
     "metadata": {},
     "output_type": "execute_result"
    }
   ],
   "source": [
    "# check for duplicates\n",
    "df.id.value_counts()"
   ]
  },
  {
   "cell_type": "code",
   "execution_count": 48,
   "id": "5c4d460d",
   "metadata": {},
   "outputs": [
    {
     "name": "stdout",
     "output_type": "stream",
     "text": [
      "<class 'pandas.core.frame.DataFrame'>\n",
      "Int64Index: 551647 entries, 0 to 591565\n",
      "Data columns (total 23 columns):\n",
      " #   Column                    Non-Null Count   Dtype         \n",
      "---  ------                    --------------   -----         \n",
      " 0   backers_count             551647 non-null  int64         \n",
      " 1   blurb                     551644 non-null  object        \n",
      " 2   category                  551647 non-null  object        \n",
      " 3   converted_pledged_amount  551647 non-null  float64       \n",
      " 4   country                   551647 non-null  object        \n",
      " 5   created_at                551647 non-null  datetime64[ns]\n",
      " 6   currency                  551647 non-null  object        \n",
      " 7   deadline                  551647 non-null  datetime64[ns]\n",
      " 8   fx_rate                   551647 non-null  float64       \n",
      " 9   goal                      551647 non-null  float64       \n",
      " 10  id                        551647 non-null  int64         \n",
      " 11  launched_at               551647 non-null  datetime64[ns]\n",
      " 12  location                  550975 non-null  object        \n",
      " 13  name                      551647 non-null  object        \n",
      " 14  pledged                   551647 non-null  float64       \n",
      " 15  slug                      551647 non-null  object        \n",
      " 16  spotlight                 551647 non-null  int64         \n",
      " 17  staff_pick                551647 non-null  int64         \n",
      " 18  state                     551647 non-null  object        \n",
      " 19  state_changed_at          551647 non-null  datetime64[ns]\n",
      " 20  static_usd_rate           551647 non-null  float64       \n",
      " 21  usd_pledged               551647 non-null  float64       \n",
      " 22  usd_type                  551360 non-null  object        \n",
      "dtypes: datetime64[ns](4), float64(6), int64(4), object(9)\n",
      "memory usage: 101.0+ MB\n"
     ]
    }
   ],
   "source": [
    "df.info()"
   ]
  },
  {
   "cell_type": "code",
   "execution_count": 49,
   "id": "dad2533f",
   "metadata": {},
   "outputs": [
    {
     "data": {
      "text/plain": [
       "(197197, 23)"
      ]
     },
     "execution_count": 49,
     "metadata": {},
     "output_type": "execute_result"
    }
   ],
   "source": [
    "df.drop_duplicates(subset=['id', 'state'], inplace=True)\n",
    "df.shape"
   ]
  },
  {
   "cell_type": "code",
   "execution_count": 50,
   "id": "48251adf",
   "metadata": {},
   "outputs": [
    {
     "data": {
      "text/plain": [
       "Music           26590\n",
       "Film & Video    26351\n",
       "Technology      19797\n",
       "Publishing      19538\n",
       "Art             19495\n",
       "Food            14898\n",
       "Games           12813\n",
       "Fashion         10281\n",
       "Design           8639\n",
       "Comics           7929\n",
       "Photography      6263\n",
       "Crafts           5588\n",
       "Theater          5130\n",
       "Journalism       3556\n",
       "Dance            1780\n",
       "Name: main_category, dtype: int64"
      ]
     },
     "execution_count": 50,
     "metadata": {},
     "output_type": "execute_result"
    }
   ],
   "source": [
    "# Categories - Main category and sub_category\n",
    "c = df.category.apply(literal_eval)\n",
    "main_category = []\n",
    "for i, d in enumerate(c):\n",
    "    try:\n",
    "        main_category.append(d['parent_name'])\n",
    "    except:\n",
    "        main_category.append(np.nan)\n",
    "df['main_category'] = main_category\n",
    "df.main_category.value_counts()"
   ]
  },
  {
   "cell_type": "code",
   "execution_count": 51,
   "id": "a266f246",
   "metadata": {},
   "outputs": [
    {
     "data": {
      "text/plain": [
       "Web               3916\n",
       "Product Design    3804\n",
       "Tabletop Games    3434\n",
       "Comedy            3155\n",
       "Graphic Novels    3130\n",
       "                  ... \n",
       "Quilts              91\n",
       "Residencies         89\n",
       "Games               84\n",
       "Chiptune            54\n",
       "Taxidermy           11\n",
       "Name: sub_category, Length: 161, dtype: int64"
      ]
     },
     "execution_count": 51,
     "metadata": {},
     "output_type": "execute_result"
    }
   ],
   "source": [
    "sub_category = []\n",
    "for i, name in enumerate(d['name'] for d in c):\n",
    "    sub_category.append(name)\n",
    "df['sub_category'] = sub_category\n",
    "df.sub_category.value_counts()"
   ]
  },
  {
   "cell_type": "code",
   "execution_count": 52,
   "id": "0628df88",
   "metadata": {},
   "outputs": [
    {
     "data": {
      "text/plain": [
       "US    133022\n",
       "GB     22485\n",
       "CA      9358\n",
       "AU      4701\n",
       "DE      3887\n",
       "MX      3210\n",
       "FR      3178\n",
       "IT      2805\n",
       "ES      2474\n",
       "HK      1892\n",
       "NL      1739\n",
       "SE      1467\n",
       "JP       922\n",
       "DK       911\n",
       "SG       893\n",
       "NZ       842\n",
       "CH       735\n",
       "IE       635\n",
       "BE       624\n",
       "AT       533\n",
       "NO       448\n",
       "PL       217\n",
       "GR       109\n",
       "LU        67\n",
       "SI        43\n",
       "Name: country, dtype: int64"
      ]
     },
     "execution_count": 52,
     "metadata": {},
     "output_type": "execute_result"
    }
   ],
   "source": [
    "# Country - needs to condense the list\n",
    "df.country.value_counts()"
   ]
  },
  {
   "cell_type": "code",
   "execution_count": 53,
   "id": "35f85680",
   "metadata": {},
   "outputs": [
    {
     "name": "stdout",
     "output_type": "stream",
     "text": [
      "0\n"
     ]
    }
   ],
   "source": [
    "ua_projects_count = df['country'].value_counts().get('UA', 0)\n",
    "print(ua_projects_count)"
   ]
  },
  {
   "cell_type": "code",
   "execution_count": 54,
   "id": "be7abac6",
   "metadata": {},
   "outputs": [
    {
     "data": {
      "text/plain": [
       "US       133022\n",
       "GB        22485\n",
       "CA         9358\n",
       "OTHER      6979\n",
       "AU         4701\n",
       "DE         3887\n",
       "MX         3210\n",
       "FR         3178\n",
       "IT         2805\n",
       "ES         2474\n",
       "HK         1892\n",
       "NL         1739\n",
       "SE         1467\n",
       "Name: country, dtype: int64"
      ]
     },
     "execution_count": 54,
     "metadata": {},
     "output_type": "execute_result"
    }
   ],
   "source": [
    "dic = {\"DK\": \"OTHER\", \"NZ\": \"OTHER\", \"SG\": \"OTHER\", \"CH\": \"OTHER\", \"BE\": \"OTHER\", \"IE\": \"OTHER\",\n",
    "      \"JP\": \"OTHER\", \"AT\": \"OTHER\", \"NO\": \"OTHER\", \"LU\": \"OTHER\", \"PL\": \"OTHER\", \"GR\": \"OTHER\",\n",
    "      \"SI\": \"OTHER\"}\n",
    "df = df.replace({\"country\": dic})\n",
    "df.country.value_counts()"
   ]
  },
  {
   "cell_type": "code",
   "execution_count": 55,
   "id": "aece0afa",
   "metadata": {},
   "outputs": [
    {
     "data": {
      "text/plain": [
       "USD    133022\n",
       "GBP     22485\n",
       "EUR     16495\n",
       "CAD      9358\n",
       "AUD      4701\n",
       "MXN      3210\n",
       "HKD      1892\n",
       "SEK      1366\n",
       "JPY       922\n",
       "SGD       893\n",
       "NZD       842\n",
       "DKK       839\n",
       "CHF       683\n",
       "NOK       418\n",
       "PLN        71\n",
       "Name: currency, dtype: int64"
      ]
     },
     "execution_count": 55,
     "metadata": {},
     "output_type": "execute_result"
    }
   ],
   "source": [
    "# Currency - needs to convert all goal values to USD\n",
    "df.currency.value_counts()"
   ]
  },
  {
   "cell_type": "code",
   "execution_count": 56,
   "id": "0135343a",
   "metadata": {},
   "outputs": [
    {
     "data": {
      "text/html": [
       "<div>\n",
       "<style scoped>\n",
       "    .dataframe tbody tr th:only-of-type {\n",
       "        vertical-align: middle;\n",
       "    }\n",
       "\n",
       "    .dataframe tbody tr th {\n",
       "        vertical-align: top;\n",
       "    }\n",
       "\n",
       "    .dataframe thead th {\n",
       "        text-align: right;\n",
       "    }\n",
       "</style>\n",
       "<table border=\"1\" class=\"dataframe\">\n",
       "  <thead>\n",
       "    <tr style=\"text-align: right;\">\n",
       "      <th></th>\n",
       "      <th>backers_count</th>\n",
       "      <th>blurb</th>\n",
       "      <th>category</th>\n",
       "      <th>converted_pledged_amount</th>\n",
       "      <th>country</th>\n",
       "      <th>created_at</th>\n",
       "      <th>currency</th>\n",
       "      <th>deadline</th>\n",
       "      <th>fx_rate</th>\n",
       "      <th>goal</th>\n",
       "      <th>...</th>\n",
       "      <th>spotlight</th>\n",
       "      <th>staff_pick</th>\n",
       "      <th>state</th>\n",
       "      <th>state_changed_at</th>\n",
       "      <th>static_usd_rate</th>\n",
       "      <th>usd_pledged</th>\n",
       "      <th>usd_type</th>\n",
       "      <th>main_category</th>\n",
       "      <th>sub_category</th>\n",
       "      <th>goal_usd</th>\n",
       "    </tr>\n",
       "  </thead>\n",
       "  <tbody>\n",
       "    <tr>\n",
       "      <th>0</th>\n",
       "      <td>8</td>\n",
       "      <td>A new, for-profit community theatre group base...</td>\n",
       "      <td>{\"id\":285,\"name\":\"Plays\",\"analytics_name\":\"Pla...</td>\n",
       "      <td>291.0</td>\n",
       "      <td>US</td>\n",
       "      <td>2018-11-06 18:44:51</td>\n",
       "      <td>USD</td>\n",
       "      <td>2018-12-27 18:00:43</td>\n",
       "      <td>1.000000</td>\n",
       "      <td>1000.0</td>\n",
       "      <td>...</td>\n",
       "      <td>0</td>\n",
       "      <td>0</td>\n",
       "      <td>failed</td>\n",
       "      <td>2018-12-27 18:00:44</td>\n",
       "      <td>1.00000</td>\n",
       "      <td>291.000000</td>\n",
       "      <td>international</td>\n",
       "      <td>Theater</td>\n",
       "      <td>Plays</td>\n",
       "      <td>1000.00000</td>\n",
       "    </tr>\n",
       "    <tr>\n",
       "      <th>1</th>\n",
       "      <td>1</td>\n",
       "      <td>A 25 minute play with 5 scenes, including an o...</td>\n",
       "      <td>{\"id\":285,\"name\":\"Plays\",\"analytics_name\":\"Pla...</td>\n",
       "      <td>1.0</td>\n",
       "      <td>US</td>\n",
       "      <td>2018-09-06 17:10:05</td>\n",
       "      <td>USD</td>\n",
       "      <td>2019-01-25 19:38:00</td>\n",
       "      <td>1.000000</td>\n",
       "      <td>10000.0</td>\n",
       "      <td>...</td>\n",
       "      <td>0</td>\n",
       "      <td>0</td>\n",
       "      <td>failed</td>\n",
       "      <td>2019-01-25 19:45:22</td>\n",
       "      <td>1.00000</td>\n",
       "      <td>1.000000</td>\n",
       "      <td>international</td>\n",
       "      <td>Theater</td>\n",
       "      <td>Plays</td>\n",
       "      <td>10000.00000</td>\n",
       "    </tr>\n",
       "    <tr>\n",
       "      <th>2</th>\n",
       "      <td>5</td>\n",
       "      <td>Help us recovering the Opera tradition in one ...</td>\n",
       "      <td>{\"id\":285,\"name\":\"Plays\",\"analytics_name\":\"Pla...</td>\n",
       "      <td>695.0</td>\n",
       "      <td>IT</td>\n",
       "      <td>2018-11-07 14:59:45</td>\n",
       "      <td>EUR</td>\n",
       "      <td>2018-12-13 13:27:12</td>\n",
       "      <td>1.155249</td>\n",
       "      <td>48000.0</td>\n",
       "      <td>...</td>\n",
       "      <td>0</td>\n",
       "      <td>0</td>\n",
       "      <td>failed</td>\n",
       "      <td>2018-12-13 13:27:12</td>\n",
       "      <td>1.13231</td>\n",
       "      <td>692.974014</td>\n",
       "      <td>international</td>\n",
       "      <td>Theater</td>\n",
       "      <td>Plays</td>\n",
       "      <td>55451.96832</td>\n",
       "    </tr>\n",
       "    <tr>\n",
       "      <th>3</th>\n",
       "      <td>6</td>\n",
       "      <td>Using the Power of Visual and Performing Arts ...</td>\n",
       "      <td>{\"id\":285,\"name\":\"Plays\",\"analytics_name\":\"Pla...</td>\n",
       "      <td>367.0</td>\n",
       "      <td>US</td>\n",
       "      <td>2018-10-28 21:59:41</td>\n",
       "      <td>USD</td>\n",
       "      <td>2018-12-01 01:00:00</td>\n",
       "      <td>1.000000</td>\n",
       "      <td>25000.0</td>\n",
       "      <td>...</td>\n",
       "      <td>0</td>\n",
       "      <td>0</td>\n",
       "      <td>failed</td>\n",
       "      <td>2018-12-01 01:00:00</td>\n",
       "      <td>1.00000</td>\n",
       "      <td>367.000000</td>\n",
       "      <td>international</td>\n",
       "      <td>Theater</td>\n",
       "      <td>Plays</td>\n",
       "      <td>25000.00000</td>\n",
       "    </tr>\n",
       "    <tr>\n",
       "      <th>4</th>\n",
       "      <td>2</td>\n",
       "      <td>Ché Walker's AMERICAN CARNAGE, a staged readin...</td>\n",
       "      <td>{\"id\":285,\"name\":\"Plays\",\"analytics_name\":\"Pla...</td>\n",
       "      <td>2.0</td>\n",
       "      <td>US</td>\n",
       "      <td>2018-07-29 01:34:21</td>\n",
       "      <td>USD</td>\n",
       "      <td>2018-11-08 04:48:43</td>\n",
       "      <td>1.000000</td>\n",
       "      <td>1500.0</td>\n",
       "      <td>...</td>\n",
       "      <td>0</td>\n",
       "      <td>0</td>\n",
       "      <td>failed</td>\n",
       "      <td>2018-11-08 04:48:44</td>\n",
       "      <td>1.00000</td>\n",
       "      <td>2.200000</td>\n",
       "      <td>international</td>\n",
       "      <td>Theater</td>\n",
       "      <td>Plays</td>\n",
       "      <td>1500.00000</td>\n",
       "    </tr>\n",
       "  </tbody>\n",
       "</table>\n",
       "<p>5 rows × 26 columns</p>\n",
       "</div>"
      ],
      "text/plain": [
       "   backers_count                                              blurb  \\\n",
       "0              8  A new, for-profit community theatre group base...   \n",
       "1              1  A 25 minute play with 5 scenes, including an o...   \n",
       "2              5  Help us recovering the Opera tradition in one ...   \n",
       "3              6  Using the Power of Visual and Performing Arts ...   \n",
       "4              2  Ché Walker's AMERICAN CARNAGE, a staged readin...   \n",
       "\n",
       "                                            category  \\\n",
       "0  {\"id\":285,\"name\":\"Plays\",\"analytics_name\":\"Pla...   \n",
       "1  {\"id\":285,\"name\":\"Plays\",\"analytics_name\":\"Pla...   \n",
       "2  {\"id\":285,\"name\":\"Plays\",\"analytics_name\":\"Pla...   \n",
       "3  {\"id\":285,\"name\":\"Plays\",\"analytics_name\":\"Pla...   \n",
       "4  {\"id\":285,\"name\":\"Plays\",\"analytics_name\":\"Pla...   \n",
       "\n",
       "   converted_pledged_amount country          created_at currency  \\\n",
       "0                     291.0      US 2018-11-06 18:44:51      USD   \n",
       "1                       1.0      US 2018-09-06 17:10:05      USD   \n",
       "2                     695.0      IT 2018-11-07 14:59:45      EUR   \n",
       "3                     367.0      US 2018-10-28 21:59:41      USD   \n",
       "4                       2.0      US 2018-07-29 01:34:21      USD   \n",
       "\n",
       "             deadline   fx_rate     goal  ...  spotlight staff_pick   state  \\\n",
       "0 2018-12-27 18:00:43  1.000000   1000.0  ...          0          0  failed   \n",
       "1 2019-01-25 19:38:00  1.000000  10000.0  ...          0          0  failed   \n",
       "2 2018-12-13 13:27:12  1.155249  48000.0  ...          0          0  failed   \n",
       "3 2018-12-01 01:00:00  1.000000  25000.0  ...          0          0  failed   \n",
       "4 2018-11-08 04:48:43  1.000000   1500.0  ...          0          0  failed   \n",
       "\n",
       "     state_changed_at  static_usd_rate usd_pledged       usd_type  \\\n",
       "0 2018-12-27 18:00:44          1.00000  291.000000  international   \n",
       "1 2019-01-25 19:45:22          1.00000    1.000000  international   \n",
       "2 2018-12-13 13:27:12          1.13231  692.974014  international   \n",
       "3 2018-12-01 01:00:00          1.00000  367.000000  international   \n",
       "4 2018-11-08 04:48:44          1.00000    2.200000  international   \n",
       "\n",
       "   main_category sub_category     goal_usd  \n",
       "0        Theater        Plays   1000.00000  \n",
       "1        Theater        Plays  10000.00000  \n",
       "2        Theater        Plays  55451.96832  \n",
       "3        Theater        Plays  25000.00000  \n",
       "4        Theater        Plays   1500.00000  \n",
       "\n",
       "[5 rows x 26 columns]"
      ]
     },
     "execution_count": 56,
     "metadata": {},
     "output_type": "execute_result"
    }
   ],
   "source": [
    "df['goal'] = df.goal.astype(float)\n",
    "df['fx_rate'] = df.fx_rate.astype(float)\n",
    "df['goal_usd'] = df.goal * df.fx_rate\n",
    "df.head()"
   ]
  },
  {
   "cell_type": "code",
   "execution_count": 57,
   "id": "ea862b15",
   "metadata": {},
   "outputs": [
    {
     "data": {
      "text/plain": [
       "international    114350\n",
       "domestic          82847\n",
       "Name: usd_type, dtype: int64"
      ]
     },
     "execution_count": 57,
     "metadata": {},
     "output_type": "execute_result"
    }
   ],
   "source": [
    "df.usd_type.value_counts()"
   ]
  },
  {
   "cell_type": "code",
   "execution_count": 58,
   "id": "4a3141b6",
   "metadata": {},
   "outputs": [
    {
     "data": {
      "text/plain": [
       "backers_count                  0\n",
       "blurb                          3\n",
       "category                       0\n",
       "converted_pledged_amount       0\n",
       "country                        0\n",
       "created_at                     0\n",
       "currency                       0\n",
       "deadline                       0\n",
       "fx_rate                        0\n",
       "goal                           0\n",
       "id                             0\n",
       "launched_at                    0\n",
       "location                     192\n",
       "name                           0\n",
       "pledged                        0\n",
       "slug                           0\n",
       "spotlight                      0\n",
       "staff_pick                     0\n",
       "state                          0\n",
       "state_changed_at               0\n",
       "static_usd_rate                0\n",
       "usd_pledged                    0\n",
       "usd_type                       0\n",
       "main_category               8549\n",
       "sub_category                   0\n",
       "goal_usd                       0\n",
       "dtype: int64"
      ]
     },
     "execution_count": 58,
     "metadata": {},
     "output_type": "execute_result"
    }
   ],
   "source": [
    "# checking for NaN\n",
    "df.isna().sum()"
   ]
  },
  {
   "cell_type": "code",
   "execution_count": 59,
   "id": "9be5505b",
   "metadata": {},
   "outputs": [
    {
     "data": {
      "text/plain": [
       "Art             1751\n",
       "Dance           1374\n",
       "Crafts          1102\n",
       "Journalism       726\n",
       "Music            688\n",
       "Food             520\n",
       "Theater          517\n",
       "Photography      456\n",
       "Design           347\n",
       "Technology       337\n",
       "Comics           197\n",
       "Publishing       169\n",
       "Film & Video     162\n",
       "Fashion          119\n",
       "Games             84\n",
       "Name: sub_category, dtype: int64"
      ]
     },
     "execution_count": 59,
     "metadata": {},
     "output_type": "execute_result"
    }
   ],
   "source": [
    "# fill main_category NaN with sub_category \n",
    "df[df.main_category.isna()]['sub_category'].value_counts()"
   ]
  },
  {
   "cell_type": "code",
   "execution_count": 60,
   "id": "cc7dadcf",
   "metadata": {},
   "outputs": [
    {
     "data": {
      "text/plain": [
       "backers_count                 0\n",
       "blurb                         3\n",
       "category                      0\n",
       "converted_pledged_amount      0\n",
       "country                       0\n",
       "created_at                    0\n",
       "currency                      0\n",
       "deadline                      0\n",
       "fx_rate                       0\n",
       "goal                          0\n",
       "id                            0\n",
       "launched_at                   0\n",
       "location                    192\n",
       "name                          0\n",
       "pledged                       0\n",
       "slug                          0\n",
       "spotlight                     0\n",
       "staff_pick                    0\n",
       "state                         0\n",
       "state_changed_at              0\n",
       "static_usd_rate               0\n",
       "usd_pledged                   0\n",
       "usd_type                      0\n",
       "main_category                 0\n",
       "sub_category                  0\n",
       "goal_usd                      0\n",
       "dtype: int64"
      ]
     },
     "execution_count": 60,
     "metadata": {},
     "output_type": "execute_result"
    }
   ],
   "source": [
    "df.main_category.fillna(df.sub_category, inplace=True)\n",
    "df.isna().sum()"
   ]
  },
  {
   "cell_type": "code",
   "execution_count": 61,
   "id": "f864dee0",
   "metadata": {},
   "outputs": [],
   "source": [
    "# Fill NaN values in the \"location\" column with a specific value\n",
    "df['location'].fillna('Unknown', inplace=True)\n",
    "\n",
    "# Replace NaN values in the \"blurb\" column with an empty string\n",
    "df['blurb'].fillna('', inplace=True)"
   ]
  },
  {
   "cell_type": "code",
   "execution_count": 62,
   "id": "bc1751f4",
   "metadata": {},
   "outputs": [
    {
     "data": {
      "text/plain": [
       "backers_count               0\n",
       "blurb                       0\n",
       "category                    0\n",
       "converted_pledged_amount    0\n",
       "country                     0\n",
       "created_at                  0\n",
       "currency                    0\n",
       "deadline                    0\n",
       "fx_rate                     0\n",
       "goal                        0\n",
       "id                          0\n",
       "launched_at                 0\n",
       "location                    0\n",
       "name                        0\n",
       "pledged                     0\n",
       "slug                        0\n",
       "spotlight                   0\n",
       "staff_pick                  0\n",
       "state                       0\n",
       "state_changed_at            0\n",
       "static_usd_rate             0\n",
       "usd_pledged                 0\n",
       "usd_type                    0\n",
       "main_category               0\n",
       "sub_category                0\n",
       "goal_usd                    0\n",
       "dtype: int64"
      ]
     },
     "execution_count": 62,
     "metadata": {},
     "output_type": "execute_result"
    }
   ],
   "source": [
    "df.isna().sum()"
   ]
  },
  {
   "cell_type": "code",
   "execution_count": 63,
   "id": "eb49a610",
   "metadata": {},
   "outputs": [
    {
     "data": {
      "text/html": [
       "<div>\n",
       "<style scoped>\n",
       "    .dataframe tbody tr th:only-of-type {\n",
       "        vertical-align: middle;\n",
       "    }\n",
       "\n",
       "    .dataframe tbody tr th {\n",
       "        vertical-align: top;\n",
       "    }\n",
       "\n",
       "    .dataframe thead th {\n",
       "        text-align: right;\n",
       "    }\n",
       "</style>\n",
       "<table border=\"1\" class=\"dataframe\">\n",
       "  <thead>\n",
       "    <tr style=\"text-align: right;\">\n",
       "      <th></th>\n",
       "      <th>id</th>\n",
       "      <th>goal_usd</th>\n",
       "      <th>country</th>\n",
       "      <th>created_at</th>\n",
       "      <th>deadline</th>\n",
       "      <th>launched_at</th>\n",
       "      <th>state_changed_at</th>\n",
       "      <th>spotlight</th>\n",
       "      <th>staff_pick</th>\n",
       "      <th>main_category</th>\n",
       "      <th>sub_category</th>\n",
       "      <th>blurb</th>\n",
       "      <th>state</th>\n",
       "    </tr>\n",
       "  </thead>\n",
       "  <tbody>\n",
       "    <tr>\n",
       "      <th>0</th>\n",
       "      <td>1883729963</td>\n",
       "      <td>1000.00000</td>\n",
       "      <td>US</td>\n",
       "      <td>2018-11-06 18:44:51</td>\n",
       "      <td>2018-12-27 18:00:43</td>\n",
       "      <td>2018-11-27 18:00:43</td>\n",
       "      <td>2018-12-27 18:00:44</td>\n",
       "      <td>0</td>\n",
       "      <td>0</td>\n",
       "      <td>Theater</td>\n",
       "      <td>Plays</td>\n",
       "      <td>A new, for-profit community theatre group base...</td>\n",
       "      <td>failed</td>\n",
       "    </tr>\n",
       "    <tr>\n",
       "      <th>1</th>\n",
       "      <td>110053898</td>\n",
       "      <td>10000.00000</td>\n",
       "      <td>US</td>\n",
       "      <td>2018-09-06 17:10:05</td>\n",
       "      <td>2019-01-25 19:38:00</td>\n",
       "      <td>2018-11-27 15:22:37</td>\n",
       "      <td>2019-01-25 19:45:22</td>\n",
       "      <td>0</td>\n",
       "      <td>0</td>\n",
       "      <td>Theater</td>\n",
       "      <td>Plays</td>\n",
       "      <td>A 25 minute play with 5 scenes, including an o...</td>\n",
       "      <td>failed</td>\n",
       "    </tr>\n",
       "    <tr>\n",
       "      <th>2</th>\n",
       "      <td>102406680</td>\n",
       "      <td>55451.96832</td>\n",
       "      <td>IT</td>\n",
       "      <td>2018-11-07 14:59:45</td>\n",
       "      <td>2018-12-13 13:27:12</td>\n",
       "      <td>2018-11-13 13:27:12</td>\n",
       "      <td>2018-12-13 13:27:12</td>\n",
       "      <td>0</td>\n",
       "      <td>0</td>\n",
       "      <td>Theater</td>\n",
       "      <td>Plays</td>\n",
       "      <td>Help us recovering the Opera tradition in one ...</td>\n",
       "      <td>failed</td>\n",
       "    </tr>\n",
       "    <tr>\n",
       "      <th>3</th>\n",
       "      <td>1821399542</td>\n",
       "      <td>25000.00000</td>\n",
       "      <td>US</td>\n",
       "      <td>2018-10-28 21:59:41</td>\n",
       "      <td>2018-12-01 01:00:00</td>\n",
       "      <td>2018-10-30 16:00:55</td>\n",
       "      <td>2018-12-01 01:00:00</td>\n",
       "      <td>0</td>\n",
       "      <td>0</td>\n",
       "      <td>Theater</td>\n",
       "      <td>Plays</td>\n",
       "      <td>Using the Power of Visual and Performing Arts ...</td>\n",
       "      <td>failed</td>\n",
       "    </tr>\n",
       "    <tr>\n",
       "      <th>4</th>\n",
       "      <td>825863534</td>\n",
       "      <td>1500.00000</td>\n",
       "      <td>US</td>\n",
       "      <td>2018-07-29 01:34:21</td>\n",
       "      <td>2018-11-08 04:48:43</td>\n",
       "      <td>2018-10-09 03:48:43</td>\n",
       "      <td>2018-11-08 04:48:44</td>\n",
       "      <td>0</td>\n",
       "      <td>0</td>\n",
       "      <td>Theater</td>\n",
       "      <td>Plays</td>\n",
       "      <td>Ché Walker's AMERICAN CARNAGE, a staged readin...</td>\n",
       "      <td>failed</td>\n",
       "    </tr>\n",
       "  </tbody>\n",
       "</table>\n",
       "</div>"
      ],
      "text/plain": [
       "           id     goal_usd country          created_at            deadline  \\\n",
       "0  1883729963   1000.00000      US 2018-11-06 18:44:51 2018-12-27 18:00:43   \n",
       "1   110053898  10000.00000      US 2018-09-06 17:10:05 2019-01-25 19:38:00   \n",
       "2   102406680  55451.96832      IT 2018-11-07 14:59:45 2018-12-13 13:27:12   \n",
       "3  1821399542  25000.00000      US 2018-10-28 21:59:41 2018-12-01 01:00:00   \n",
       "4   825863534   1500.00000      US 2018-07-29 01:34:21 2018-11-08 04:48:43   \n",
       "\n",
       "          launched_at    state_changed_at  spotlight  staff_pick  \\\n",
       "0 2018-11-27 18:00:43 2018-12-27 18:00:44          0           0   \n",
       "1 2018-11-27 15:22:37 2019-01-25 19:45:22          0           0   \n",
       "2 2018-11-13 13:27:12 2018-12-13 13:27:12          0           0   \n",
       "3 2018-10-30 16:00:55 2018-12-01 01:00:00          0           0   \n",
       "4 2018-10-09 03:48:43 2018-11-08 04:48:44          0           0   \n",
       "\n",
       "  main_category sub_category  \\\n",
       "0       Theater        Plays   \n",
       "1       Theater        Plays   \n",
       "2       Theater        Plays   \n",
       "3       Theater        Plays   \n",
       "4       Theater        Plays   \n",
       "\n",
       "                                               blurb   state  \n",
       "0  A new, for-profit community theatre group base...  failed  \n",
       "1  A 25 minute play with 5 scenes, including an o...  failed  \n",
       "2  Help us recovering the Opera tradition in one ...  failed  \n",
       "3  Using the Power of Visual and Performing Arts ...  failed  \n",
       "4  Ché Walker's AMERICAN CARNAGE, a staged readin...  failed  "
      ]
     },
     "execution_count": 63,
     "metadata": {},
     "output_type": "execute_result"
    }
   ],
   "source": [
    "kickstarter = df[['id', 'goal_usd', 'country', 'created_at', 'deadline',  'launched_at', 'state_changed_at',\n",
    "                  'spotlight','staff_pick', 'main_category', 'sub_category', 'blurb', 'state']]\n",
    "kickstarter.head()"
   ]
  },
  {
   "cell_type": "code",
   "execution_count": 65,
   "id": "19d9bafd",
   "metadata": {},
   "outputs": [],
   "source": [
    "kickstarter.to_csv(\"../data/cleaned_data/kickstarter.csv\", index= False)"
   ]
  },
  {
   "cell_type": "code",
   "execution_count": null,
   "id": "f3b389c3",
   "metadata": {},
   "outputs": [],
   "source": []
  }
 ],
 "metadata": {
  "kernelspec": {
   "display_name": "Python 3 (ipykernel)",
   "language": "python",
   "name": "python3"
  },
  "language_info": {
   "codemirror_mode": {
    "name": "ipython",
    "version": 3
   },
   "file_extension": ".py",
   "mimetype": "text/x-python",
   "name": "python",
   "nbconvert_exporter": "python",
   "pygments_lexer": "ipython3",
   "version": "3.10.9"
  }
 },
 "nbformat": 4,
 "nbformat_minor": 5
}
