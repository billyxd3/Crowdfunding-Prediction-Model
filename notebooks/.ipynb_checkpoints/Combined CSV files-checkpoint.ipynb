{
 "cells": [
  {
   "cell_type": "code",
   "execution_count": 3,
   "id": "e0b0e9a7",
   "metadata": {},
   "outputs": [],
   "source": [
    "import pandas as pd\n",
    "\n",
    "# Завантаження даних з першого CSV файлу\n",
    "df1 = pd.read_csv('../data/Kickstarter.csv')\n",
    "\n",
    "# Завантаження даних з другого CSV файлу\n",
    "df2 = pd.read_csv('../data/Kickstarter001.csv')\n",
    "\n",
    "# Об'єднання даних з обох файлів\n",
    "merged_df = pd.concat([df1, df2])\n",
    "\n",
    "# Збереження об'єднаних даних в новому CSV файлі\n",
    "merged_df.to_csv('Kickstarter_combined_file.csv', index=False)"
   ]
  },
  {
   "cell_type": "code",
   "execution_count": 8,
   "id": "2b969e1b",
   "metadata": {},
   "outputs": [
    {
     "name": "stderr",
     "output_type": "stream",
     "text": [
      "/var/folders/k4/w90ch54x2f1c7dzrw1rn7kyh0000gn/T/ipykernel_23011/1608185245.py:15: DtypeWarning: Columns (35,36,37,38) have mixed types. Specify dtype option on import or set low_memory=False.\n",
      "  data = pd.read_csv(filepath)\n",
      "/var/folders/k4/w90ch54x2f1c7dzrw1rn7kyh0000gn/T/ipykernel_23011/1608185245.py:15: DtypeWarning: Columns (35,36,37,38) have mixed types. Specify dtype option on import or set low_memory=False.\n",
      "  data = pd.read_csv(filepath)\n",
      "/var/folders/k4/w90ch54x2f1c7dzrw1rn7kyh0000gn/T/ipykernel_23011/1608185245.py:15: DtypeWarning: Columns (14,18,20,24) have mixed types. Specify dtype option on import or set low_memory=False.\n",
      "  data = pd.read_csv(filepath)\n"
     ]
    }
   ],
   "source": [
    "import pandas as pd\n",
    "import os\n",
    "\n",
    "# Directory containing the CSV files\n",
    "directory = '../data'\n",
    "\n",
    "# Initialize an empty DataFrame to store the combined data\n",
    "combined_data = []\n",
    "\n",
    "# Iterate over the files in the directory\n",
    "for filename in os.listdir(directory):\n",
    "    if filename.endswith('.csv'):\n",
    "        filepath = os.path.join(directory, filename)\n",
    "        # Read each CSV file into a DataFrame\n",
    "        data = pd.read_csv(filepath)\n",
    "        # Append the data to the list of DataFrames\n",
    "        combined_data.append(data)\n",
    "\n",
    "# Concatenate the DataFrames into a single DataFrame\n",
    "combined_data = pd.concat(combined_data, ignore_index=True)\n",
    "\n",
    "# Save the combined data to a new CSV file\n",
    "combined_data.to_csv('../data/Kickstarter_combined_file.csv', index=False)\n"
   ]
  },
  {
   "cell_type": "code",
   "execution_count": 10,
   "id": "274fd62e",
   "metadata": {},
   "outputs": [
    {
     "name": "stdout",
     "output_type": "stream",
     "text": [
      "[(0, 'blurb'), (8, 'location'), (16, 'usd_type'), (17, 'friends'), (18, 'is_backing'), (19, 'is_starred'), (20, 'permissions')]\n"
     ]
    }
   ],
   "source": [
    "mixed_datatype_columns = []\n",
    "for i, column in enumerate(combined_data.select_dtypes(include=['object']).columns):\n",
    "    unique_datatypes = combined_data[column].apply(type).unique()\n",
    "    if len(unique_datatypes) > 1:\n",
    "        mixed_datatype_columns.append((i, column))\n",
    "\n",
    "print(mixed_datatype_columns)\n",
    "\n"
   ]
  },
  {
   "cell_type": "code",
   "execution_count": null,
   "id": "0efc6d11",
   "metadata": {},
   "outputs": [],
   "source": []
  }
 ],
 "metadata": {
  "kernelspec": {
   "display_name": "Python 3 (ipykernel)",
   "language": "python",
   "name": "python3"
  },
  "language_info": {
   "codemirror_mode": {
    "name": "ipython",
    "version": 3
   },
   "file_extension": ".py",
   "mimetype": "text/x-python",
   "name": "python",
   "nbconvert_exporter": "python",
   "pygments_lexer": "ipython3",
   "version": "3.10.9"
  }
 },
 "nbformat": 4,
 "nbformat_minor": 5
}
